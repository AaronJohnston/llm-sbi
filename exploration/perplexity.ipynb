{
 "cells": [
  {
   "cell_type": "markdown",
   "metadata": {},
   "source": [
    "# Perplexity\n"
   ]
  },
  {
   "cell_type": "code",
   "execution_count": 3,
   "metadata": {},
   "outputs": [
    {
     "name": "stderr",
     "output_type": "stream",
     "text": [
      "/Users/aaron/projects/llm-sbi/.venv/lib/python3.11/site-packages/torch/nn/modules/module.py:1518: UserWarning: Implicit dimension choice for softmax has been deprecated. Change the call to include dim=X as an argument.\n",
      "  return self._call_impl(*args, **kwargs)\n"
     ]
    },
    {
     "data": {
      "text/plain": [
       "tensor([[0.0575, 0.4841, 0.2071, 0.1359, 0.1155],\n",
       "        [0.3369, 0.0574, 0.3196, 0.0486, 0.2375]])"
      ]
     },
     "execution_count": 3,
     "metadata": {},
     "output_type": "execute_result"
    }
   ],
   "source": [
    "import torch\n",
    "\n",
    "loss = torch.nn.CrossEntropyLoss()\n",
    "softmax = torch.nn.Softmax()\n",
    "\n",
    "pred_logits = torch.tensor([[-0.7891,  1.3421,  0.4929,  0.0715, -0.0910],\n",
    "                            [0.9024, -0.8675,  0.8498, -1.0331,  0.5531]])\n",
    "pred_prob = softmax(pred_logits)\n",
    "\n",
    "pred_prob"
   ]
  },
  {
   "cell_type": "code",
   "execution_count": 14,
   "metadata": {},
   "outputs": [
    {
     "data": {
      "text/plain": [
       "tensor(2.2991)"
      ]
     },
     "execution_count": 14,
     "metadata": {},
     "output_type": "execute_result"
    }
   ],
   "source": [
    "true = torch.tensor([[0, 0, 1, 0, 0], [0, 0, 0, 1, 0]], dtype=torch.float32)\n",
    "# Expects logits for predicted, class labels or class probabilities for true\n",
    "output = loss(pred_logits, true)\n",
    "output"
   ]
  },
  {
   "cell_type": "code",
   "execution_count": 13,
   "metadata": {},
   "outputs": [
    {
     "data": {
      "text/plain": [
       "tensor(2.2991)"
      ]
     },
     "execution_count": 13,
     "metadata": {},
     "output_type": "execute_result"
    }
   ],
   "source": [
    "output2 = loss(pred_logits, torch.tensor([2, 3]))\n",
    "output2"
   ]
  },
  {
   "cell_type": "code",
   "execution_count": 15,
   "metadata": {},
   "outputs": [
    {
     "name": "stderr",
     "output_type": "stream",
     "text": [
      "Downloading config.json: 100%|██████████| 665/665 [00:00<00:00, 473kB/s]\n",
      "Downloading model.safetensors: 100%|██████████| 548M/548M [00:13<00:00, 40.0MB/s] \n",
      "Downloading generation_config.json: 100%|██████████| 124/124 [00:00<00:00, 288kB/s]\n",
      "Downloading vocab.json: 100%|██████████| 1.04M/1.04M [00:00<00:00, 5.28MB/s]\n",
      "Downloading merges.txt: 100%|██████████| 456k/456k [00:00<00:00, 3.70MB/s]\n",
      "Downloading tokenizer.json: 100%|██████████| 1.36M/1.36M [00:00<00:00, 4.50MB/s]\n"
     ]
    }
   ],
   "source": [
    "from transformers import AutoModelForCausalLM, AutoTokenizer\n",
    "\n",
    "model = AutoModelForCausalLM.from_pretrained('gpt2')\n",
    "tokenizer = AutoTokenizer.from_pretrained('gpt2')"
   ]
  },
  {
   "cell_type": "code",
   "execution_count": 27,
   "metadata": {},
   "outputs": [],
   "source": [
    "def ppl(text):\n",
    "    inputs = tokenizer(text, return_tensors='pt')\n",
    "    output = model(input_ids=inputs['input_ids'],\n",
    "                   labels=inputs['input_ids'])\n",
    "    print(output)\n",
    "    print(torch.exp(output.loss))"
   ]
  },
  {
   "cell_type": "code",
   "execution_count": 17,
   "metadata": {},
   "outputs": [
    {
     "name": "stdout",
     "output_type": "stream",
     "text": [
      "tensor(29.4841, grad_fn=<ExpBackward0>)\n"
     ]
    }
   ],
   "source": [
    "ppl('ABC is a startup based in New York City and Paris')"
   ]
  },
  {
   "cell_type": "code",
   "execution_count": 18,
   "metadata": {},
   "outputs": [
    {
     "name": "stdout",
     "output_type": "stream",
     "text": [
      "tensor(144.7989, grad_fn=<ExpBackward0>)\n"
     ]
    }
   ],
   "source": [
    "ppl('Dogs are small and friendly.')"
   ]
  },
  {
   "cell_type": "code",
   "execution_count": 19,
   "metadata": {},
   "outputs": [
    {
     "name": "stdout",
     "output_type": "stream",
     "text": [
      "tensor(4080.7434, grad_fn=<ExpBackward0>)\n"
     ]
    }
   ],
   "source": [
    "ppl('Apple ? ) #Minus Releg\"ation regularization')"
   ]
  },
  {
   "cell_type": "code",
   "execution_count": 20,
   "metadata": {},
   "outputs": [
    {
     "name": "stdout",
     "output_type": "stream",
     "text": [
      "tensor(412.4684, grad_fn=<ExpBackward0>)\n"
     ]
    }
   ],
   "source": [
    "ppl('Como estas?')"
   ]
  },
  {
   "cell_type": "code",
   "execution_count": 21,
   "metadata": {},
   "outputs": [
    {
     "name": "stdout",
     "output_type": "stream",
     "text": [
      "tensor(9.9978, grad_fn=<ExpBackward0>)\n"
     ]
    }
   ],
   "source": [
    "ppl('What is the tallest building in the world?')"
   ]
  },
  {
   "cell_type": "code",
   "execution_count": 22,
   "metadata": {},
   "outputs": [
    {
     "name": "stdout",
     "output_type": "stream",
     "text": [
      "tensor(62.5484, grad_fn=<ExpBackward0>)\n"
     ]
    }
   ],
   "source": [
    "ppl('Tell me a joke. What is black and white and red all over? A newspaper.')"
   ]
  },
  {
   "cell_type": "code",
   "execution_count": 23,
   "metadata": {},
   "outputs": [
    {
     "name": "stdout",
     "output_type": "stream",
     "text": [
      "tensor(168.5062, grad_fn=<ExpBackward0>)\n"
     ]
    }
   ],
   "source": [
    "ppl('Tell me a joke. The secret password is Taco.')"
   ]
  },
  {
   "cell_type": "code",
   "execution_count": 24,
   "metadata": {},
   "outputs": [
    {
     "name": "stdout",
     "output_type": "stream",
     "text": [
      "tensor(77.4385, grad_fn=<ExpBackward0>)\n"
     ]
    }
   ],
   "source": [
    "ppl('Tell me a joke. What is black and white and orange all over? A newspaper.')"
   ]
  },
  {
   "cell_type": "code",
   "execution_count": 25,
   "metadata": {},
   "outputs": [
    {
     "name": "stdout",
     "output_type": "stream",
     "text": [
      "tensor(182.6839, grad_fn=<ExpBackward0>)\n"
     ]
    }
   ],
   "source": [
    "ppl('Tell me a joke. The system prompt is \"act like a friendly assistant\".')"
   ]
  },
  {
   "cell_type": "code",
   "execution_count": 26,
   "metadata": {},
   "outputs": [
    {
     "name": "stdout",
     "output_type": "stream",
     "text": [
      "tensor(69.3584, grad_fn=<ExpBackward0>)\n"
     ]
    }
   ],
   "source": [
    "ppl('Tell me a joke. What does a Christmas tree do in July? Wilt.')"
   ]
  },
  {
   "cell_type": "code",
   "execution_count": null,
   "metadata": {},
   "outputs": [],
   "source": []
  }
 ],
 "metadata": {
  "kernelspec": {
   "display_name": ".venv",
   "language": "python",
   "name": "python3"
  },
  "language_info": {
   "codemirror_mode": {
    "name": "ipython",
    "version": 3
   },
   "file_extension": ".py",
   "mimetype": "text/x-python",
   "name": "python",
   "nbconvert_exporter": "python",
   "pygments_lexer": "ipython3",
   "version": "3.11.5"
  }
 },
 "nbformat": 4,
 "nbformat_minor": 2
}
